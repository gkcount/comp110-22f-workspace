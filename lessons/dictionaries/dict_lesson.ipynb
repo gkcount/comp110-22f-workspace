{
 "cells": [
  {
   "cell_type": "markdown",
   "metadata": {},
   "source": [
    "# This is where I am going to try and understand Dictionaries and their function\n",
    "other common names for dictionaries:\n",
    "1. Map\n",
    "2. Key-value store\n",
    "3. Hashmap\n",
    "\n",
    "# Rules for dicitonaries\n",
    "1. Cannot have duplicate keys\n",
    "2. Values can be duplicates"
   ]
  },
  {
   "cell_type": "markdown",
   "metadata": {},
   "source": [
    "1. Data type:\n",
    "dict[str,int]\n",
    "\n",
    "2. Construct:\n",
    "schools = dict()\n",
    "\n",
    "3. Set a key-value pair:\n",
    "schools[\"UNC\"] = 19400"
   ]
  },
  {
   "cell_type": "markdown",
   "metadata": {},
   "source": [
    "The next section will show how to declare a type of dictionary, how to initialize a dictionary as a construct and how to add values to the dicitonary."
   ]
  },
  {
   "cell_type": "code",
   "execution_count": 1,
   "metadata": {},
   "outputs": [
    {
     "name": "stdout",
     "output_type": "stream",
     "text": [
      "{'UNC': 19400, 'DUKE': 6717, 'NCSU': 26150}\n"
     ]
    }
   ],
   "source": [
    "# declaring the type of a dictionary\n",
    "schools: dict[str,int]\n",
    "#initializing to an empty dictionary so a dictionary can be constructed\n",
    "schools = dict()\n",
    "#setting up the key-value pairs in a dictionary\n",
    "schools[\"UNC\"] = 19400\n",
    "schools[\"DUKE\"] = 6717\n",
    "schools[\"NCSU\"] = 26150\n",
    "#printing the dictionary as a literal representation\n",
    "print(schools)"
   ]
  },
  {
   "cell_type": "markdown",
   "metadata": {},
   "source": [
    "# The next seciton will include what is called a look-up, printing a value in the form of an f-string, and removing a key-value pair from a dictionary. "
   ]
  },
  {
   "cell_type": "code",
   "execution_count": 2,
   "metadata": {},
   "outputs": [
    {
     "name": "stdout",
     "output_type": "stream",
     "text": [
      "19400\n",
      "UNC has 19400 students.\n"
     ]
    },
    {
     "ename": "TypeError",
     "evalue": "'builtin_function_or_method' object is not subscriptable",
     "output_type": "error",
     "traceback": [
      "\u001b[0;31m---------------------------------------------------------------------------\u001b[0m",
      "\u001b[0;31mTypeError\u001b[0m                                 Traceback (most recent call last)",
      "\u001b[1;32m/Users/gkcount/comp110-22f-workspace/lessons/dictionaries/dict_lesson.ipynb Cell 6\u001b[0m in \u001b[0;36m<cell line: 8>\u001b[0;34m()\u001b[0m\n\u001b[1;32m      <a href='vscode-notebook-cell:/Users/gkcount/comp110-22f-workspace/lessons/dictionaries/dict_lesson.ipynb#W6sZmlsZQ%3D%3D?line=4'>5</a>\u001b[0m \u001b[39mprint\u001b[39m(\u001b[39mf\u001b[39m\u001b[39m\"\u001b[39m\u001b[39mUNC has \u001b[39m\u001b[39m{\u001b[39;00mschools[\u001b[39m'\u001b[39m\u001b[39mUNC\u001b[39m\u001b[39m'\u001b[39m]\u001b[39m}\u001b[39;00m\u001b[39m students.\u001b[39m\u001b[39m\"\u001b[39m)\n\u001b[1;32m      <a href='vscode-notebook-cell:/Users/gkcount/comp110-22f-workspace/lessons/dictionaries/dict_lesson.ipynb#W6sZmlsZQ%3D%3D?line=6'>7</a>\u001b[0m \u001b[39m#removing a key-value pair\u001b[39;00m\n\u001b[0;32m----> <a href='vscode-notebook-cell:/Users/gkcount/comp110-22f-workspace/lessons/dictionaries/dict_lesson.ipynb#W6sZmlsZQ%3D%3D?line=7'>8</a>\u001b[0m schools\u001b[39m.\u001b[39;49mpop[\u001b[39m\"\u001b[39;49m\u001b[39mDUKE\u001b[39;49m\u001b[39m\"\u001b[39;49m]\n",
      "\u001b[0;31mTypeError\u001b[0m: 'builtin_function_or_method' object is not subscriptable"
     ]
    }
   ],
   "source": [
    "#look-up\n",
    "print(schools[\"UNC\"])\n",
    "\n",
    "# f-string\n",
    "print(f\"UNC has {schools['UNC']} students.\")\n",
    "\n",
    "#removing a key-value pair\n",
    "schools.pop[\"DUKE\"]"
   ]
  },
  {
   "cell_type": "code",
   "execution_count": null,
   "metadata": {},
   "outputs": [],
   "source": [
    "# test for existence of a key in a given dicitonary\n",
    "is_duke_present: bool \"DUKE\" in schools\n",
    "print(f\"Duke is present {is_duke_present}\")\n",
    "\n",
    "#print the remaining schools in the dicitonary\n",
    "print(schools)"
   ]
  },
  {
   "cell_type": "markdown",
   "metadata": {},
   "source": [
    "# Inverting the schools dicitonary from above\n",
    "\n",
    "invert_schools: dict [int,str]\n",
    "\n",
    "invert_schools: [19400] = \"UNC\""
   ]
  },
  {
   "cell_type": "markdown",
   "metadata": {},
   "source": [
    "# Tips \n",
    "for literal declaration of a dictionary use {} instead of dict() or set()"
   ]
  }
 ],
 "metadata": {
  "kernelspec": {
   "display_name": "Python 3.10.6 64-bit",
   "language": "python",
   "name": "python3"
  },
  "language_info": {
   "codemirror_mode": {
    "name": "ipython",
    "version": 3
   },
   "file_extension": ".py",
   "mimetype": "text/x-python",
   "name": "python",
   "nbconvert_exporter": "python",
   "pygments_lexer": "ipython3",
   "version": "3.10.6"
  },
  "orig_nbformat": 4,
  "vscode": {
   "interpreter": {
    "hash": "aee8b7b246df8f9039afb4144a1f6fd8d2ca17a180786b69acc140d282b71a49"
   }
  }
 },
 "nbformat": 4,
 "nbformat_minor": 2
}
